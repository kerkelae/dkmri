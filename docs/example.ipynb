{
 "cells": [
  {
   "cell_type": "markdown",
   "id": "8e43a7df",
   "metadata": {},
   "source": [
    "# `dkmri.py` example\n",
    "\n",
    "Let's start by importing the packages and modules used in this notebook."
   ]
  },
  {
   "cell_type": "code",
   "execution_count": 1,
   "id": "d6ce256e",
   "metadata": {},
   "outputs": [],
   "source": [
    "import dkmri\n",
    "import matplotlib.pyplot as plt\n",
    "import nibabel as nib\n",
    "import numpy as np"
   ]
  },
  {
   "cell_type": "markdown",
   "id": "39298609",
   "metadata": {},
   "source": [
    "Then, let's load a dataset to work on. Replace the code below with code that loads your data."
   ]
  },
  {
   "cell_type": "code",
   "execution_count": 2,
   "id": "134fcf86",
   "metadata": {},
   "outputs": [],
   "source": [
    "data = nib.load(\"data.nii.gz\").get_fdata()\n",
    "bvals = np.loadtxt(\"data.bval\")\n",
    "bvecs = np.loadtxt(\"data.bvec\").T\n",
    "mask = nib.load(\"mask.nii.gz\").get_fdata().astype(bool)"
   ]
  },
  {
   "cell_type": "markdown",
   "id": "77b1c683",
   "metadata": {},
   "source": [
    "The diffusion kurtosis imaging signal model can be fit to data using the function `dkmri.fit`. The docstring contains important information about the function:"
   ]
  },
  {
   "cell_type": "code",
   "execution_count": 3,
   "id": "e76c696c",
   "metadata": {},
   "outputs": [
    {
     "name": "stdout",
     "output_type": "stream",
     "text": [
      "\u001b[0;31mSignature:\u001b[0m \u001b[0mdkmri\u001b[0m\u001b[0;34m.\u001b[0m\u001b[0mfit\u001b[0m\u001b[0;34m(\u001b[0m\u001b[0mdata\u001b[0m\u001b[0;34m,\u001b[0m \u001b[0mbvals\u001b[0m\u001b[0;34m,\u001b[0m \u001b[0mbvecs\u001b[0m\u001b[0;34m,\u001b[0m \u001b[0mmask\u001b[0m\u001b[0;34m=\u001b[0m\u001b[0;32mNone\u001b[0m\u001b[0;34m,\u001b[0m \u001b[0malpha\u001b[0m\u001b[0;34m=\u001b[0m\u001b[0;32mNone\u001b[0m\u001b[0;34m,\u001b[0m \u001b[0mseed\u001b[0m\u001b[0;34m=\u001b[0m\u001b[0;36m123\u001b[0m\u001b[0;34m,\u001b[0m \u001b[0mquiet\u001b[0m\u001b[0;34m=\u001b[0m\u001b[0;32mFalse\u001b[0m\u001b[0;34m)\u001b[0m\u001b[0;34m\u001b[0m\u001b[0;34m\u001b[0m\u001b[0m\n",
      "\u001b[0;31mDocstring:\u001b[0m\n",
      "Estimate diffusion and kurtosis tensor elements from data.\n",
      "\n",
      "This function does the following:\n",
      "\n",
      "    1. Remove infinities, nans, and negative values in `data`, and scale\n",
      "       values in `data` and `bvals`.\n",
      "    2. Estimate model parameters using standard NLLS.\n",
      "    3. Train multilayer perceptrons to predict kurtosis measures from data\n",
      "       in voxels where the apparent kurtosis coefficient computed from the\n",
      "       NLLS fit results is non-negative along all directions.\n",
      "    4. Estimate model parameters using regularized NLLS where the\n",
      "       regularization terms increase the objective function value when\n",
      "       MK, AK, and RK deviate from their predicted values. Axially\n",
      "       symmetric tensors with plausible magnitudes are used as initial\n",
      "       positions for the fit.\n",
      "\n",
      "Parameters\n",
      "----------\n",
      "data : numpy.ndarray\n",
      "    Floating-point array with shape (..., number of acquisitions).\n",
      "bvals : numpy.ndarray\n",
      "    Floating-point array with shape (number of acquisitions,).\n",
      "bvecs : numpy.ndarray\n",
      "    Floating-point array with shape (number of acquisitions, 3).\n",
      "mask : numpy.ndarray, optional\n",
      "    Boolean array with the same shape as `data` without the last dimension.\n",
      "alpha : float, optional\n",
      "    Constant controlling regularization term magnitudes in the objective\n",
      "    function. If not given, `alpha` is equal to the 0.1 times median\n",
      "    squared error of the standard NLLS fit divided by the median squared\n",
      "    error of the MK prediction.\n",
      "seed : int, optional\n",
      "    Seed for pseudo-random number generation to initialize neural network\n",
      "    weights.\n",
      "quiet : bool, optional\n",
      "    Whether not to print messages about computation progress.\n",
      "\n",
      "Returns\n",
      "-------\n",
      "dkmri.FitResult\n",
      "\u001b[0;31mFile:\u001b[0m      ~/Dropbox/UCL/dki-paper/code/dkmri/dkmri/dkmri.py\n",
      "\u001b[0;31mType:\u001b[0m      function\n"
     ]
    }
   ],
   "source": [
    "dkmri.fit?"
   ]
  },
  {
   "cell_type": "markdown",
   "id": "2fad2780",
   "metadata": {},
   "source": [
    "Let's fit the model to data."
   ]
  },
  {
   "cell_type": "code",
   "execution_count": 4,
   "id": "05718d8e",
   "metadata": {},
   "outputs": [
    {
     "name": "stdout",
     "output_type": "stream",
     "text": [
      "Fitting DKI to data with standard NLLS\n"
     ]
    }
   ],
   "source": [
    "fit_result = dkmri.fit(data, bvals, bvecs, mask)"
   ]
  },
  {
   "cell_type": "markdown",
   "id": "6270a4d7",
   "metadata": {},
   "source": [
    "`dkmri.fit` returns a `FitResult` object whose attributes contain the results of the fit."
   ]
  },
  {
   "cell_type": "code",
   "execution_count": null,
   "id": "494107b3",
   "metadata": {},
   "outputs": [],
   "source": [
    "fit_result?"
   ]
  },
  {
   "cell_type": "markdown",
   "id": "68c66743",
   "metadata": {},
   "source": [
    "Parameter maps can be computed using the followin functions: \n",
    "\n",
    "- `dkmri.params_to_ad`\n",
    "- `dkmri.params_to_ak`\n",
    "- `dkmri.params_to_fa`\n",
    "- `dkmri.params_to_md`\n",
    "- `dkmri.params_to_mk`\n",
    "- `dkmri.params_to_rd`\n",
    "- `dkmri.params_to_rk`\n",
    "\n",
    "In addition, we can use the function `dkmri.signal` to compute the signal from the estimated parameters.\n",
    "\n",
    "Let's compute and show some parameter maps."
   ]
  },
  {
   "cell_type": "code",
   "execution_count": null,
   "id": "60cd70dd",
   "metadata": {},
   "outputs": [],
   "source": [
    "z = 40\n",
    "\n",
    "mk = dkmri.params_to_mk(fit_result.params, mask)\n",
    "plt.imshow(np.rot90(mk[..., z]), vmin=0, vmax=2, cmap=\"gray\")\n",
    "plt.colorbar()\n",
    "plt.title(\"Mean kurtosis\")\n",
    "plt.xticks([])\n",
    "plt.yticks([])\n",
    "plt.show()\n",
    "\n",
    "ak = dkmri.params_to_ak(fit_result.params, mask)\n",
    "plt.imshow(np.rot90(ak[..., z]), vmin=0, vmax=1.5, cmap=\"gray\")\n",
    "plt.colorbar()\n",
    "plt.title(\"Axial kurtosis\")\n",
    "plt.xticks([])\n",
    "plt.yticks([])\n",
    "plt.show()\n",
    "\n",
    "rk = dkmri.params_to_rk(fit_result.params, mask)\n",
    "plt.imshow(np.rot90(rk[..., z]), vmin=0, vmax=4, cmap=\"gray\")\n",
    "plt.colorbar()\n",
    "plt.title(\"Radial kurtosis\")\n",
    "plt.xticks([])\n",
    "plt.yticks([])\n",
    "plt.show()"
   ]
  }
 ],
 "metadata": {
  "interpreter": {
   "hash": "d5146f040a6e0ff212ec61df63dc168363d22dfb89b8f0a60116d017efbeada4"
  },
  "kernelspec": {
   "display_name": "Python 3.8.11 64-bit ('base': conda)",
   "name": "python3"
  },
  "language_info": {
   "codemirror_mode": {
    "name": "ipython",
    "version": 3
   },
   "file_extension": ".py",
   "mimetype": "text/x-python",
   "name": "python",
   "nbconvert_exporter": "python",
   "pygments_lexer": "ipython3",
   "version": "3.8.8"
  }
 },
 "nbformat": 4,
 "nbformat_minor": 5
}
